{
 "cells": [
  {
   "cell_type": "code",
   "execution_count": 79,
   "id": "213e361b-f3a4-44b9-865d-1c0b116edf7f",
   "metadata": {},
   "outputs": [],
   "source": [
    "from scipy.stats import skew, kurtosis, norm\n",
    "import numpy as np\n",
    "import matplotlib.pyplot as plt \n",
    "from sklearn.decomposition import FastICA\n",
    "import cv2\n",
    "import requests\n",
    "from io import BytesIO\n",
    "import random\n",
    "import pandas as pd\n",
    "from sklearn.decomposition import PCA\n",
    "from sklearn.preprocessing import StandardScaler\n",
    "from scipy.optimize import minimize\n",
    "from sklearn.decomposition import FastICA\n",
    "import warnings\n",
    "import cvxpy as cp\n",
    "from scipy.optimize import linprog\n",
    "import time\n",
    "import seaborn as sns\n",
    "import os\n",
    "from PIL import Image\n",
    "from scipy.stats import pearsonr\n",
    "from scipy.optimize import minimize_scalar\n",
    "from scipy.ndimage import maximum_filter\n",
    "import math"
   ]
  },
  {
   "cell_type": "code",
   "execution_count": 395,
   "id": "706f835d-b485-4b6c-ad4e-f13f28e237a9",
   "metadata": {},
   "outputs": [],
   "source": [
    "def unit_sphere(angles):\n",
    "    #print(angles)\n",
    "    angles = np.array(angles)\n",
    "    d = len(angles) + 1\n",
    "    coords = np.zeros(d)\n",
    "    prod = 1.0\n",
    "    # For the first d-1 coordinates\n",
    "    for i in range(d - 1):\n",
    "        coords[i] = prod * np.cos(angles[i])\n",
    "        prod *= np.sin(angles[i])\n",
    "    # The final coordinate\n",
    "    coords[-1] = prod\n",
    "    return coords\n",
    "\n",
    "def unit_matrix(matrix, thetas):\n",
    "    new_matrix = []\n",
    "    for row in range(len(matrix)):\n",
    "        new_matrix.append(np.sum((matrix.T * unit_sphere(thetas[row])).T, axis=0))\n",
    "    return np.array(new_matrix)\n",
    "\n",
    "def get_midpoint(matrix):\n",
    "    pca = PCA(n_components=matrix.shape[0])\n",
    "    pca.fit(matrix.T)\n",
    "    return math.acos(pca.components_[0,0]) % np.pi\n",
    "\n",
    "def intersection_objective(difference, midpoint, matrix):\n",
    "    thetas = np.array([[midpoint - difference] * (matrix.shape[0] - 1)] * matrix.shape[0])\n",
    "    thetas[1:matrix.shape[0], :] = thetas[1:matrix.shape[0],:]  + np.eye(matrix.shape[0] - 1) * 2 * difference\n",
    "    return np.mean(abs(np.corrcoef(unit_matrix(matrix, thetas)) - np.eye(matrix.shape[0])))\n",
    "              \n",
    "def gaussian_seperator(matrix):\n",
    "    midpoint = get_midpoint(matrix)\n",
    "    res = minimize_scalar(\n",
    "            lambda diff: intersection_objective(diff, midpoint, matrix),\n",
    "            bounds=(-np.pi, np.pi),\n",
    "            method='bounded'\n",
    "    )\n",
    "\n",
    "    difference = res.x\n",
    "    thetas = np.array([[midpoint - difference] * (matrix.shape[0] - 1)] * matrix.shape[0])\n",
    "    thetas[1:matrix.shape[0], :] = thetas[1:matrix.shape[0],:]  + np.eye(matrix.shape[0] - 1) * 2 * difference\n",
    "    print(res)\n",
    "    return unit_matrix(matrix, thetas)\n",
    "    \n"
   ]
  },
  {
   "cell_type": "code",
   "execution_count": 397,
   "id": "dd90b9d4-d230-4b45-9cc4-50000f190027",
   "metadata": {},
   "outputs": [],
   "source": [
    "matrix = a\n",
    "midpoint = 0.5\n",
    "difference = 0.1\n",
    "#thetas = np.array([[midpoint - difference] * (matrix.shape[0] - 1)] * matrix.shape[0]\n",
    "#thetas[:, :(matrix.shape[0] - 2)]"
   ]
  },
  {
   "cell_type": "code",
   "execution_count": 438,
   "id": "c47f1a56-3709-4d9c-8eaa-836cdb06ca79",
   "metadata": {},
   "outputs": [
    {
     "name": "stdout",
     "output_type": "stream",
     "text": [
      " message: Solution found.\n",
      " success: True\n",
      "  status: 0\n",
      "     fun: 1.4517089428572095e-07\n",
      "       x: 1.7535181555055677\n",
      "     nit: 23\n",
      "    nfev: 23\n"
     ]
    },
    {
     "data": {
      "text/html": [
       "<div>\n",
       "<style scoped>\n",
       "    .dataframe tbody tr th:only-of-type {\n",
       "        vertical-align: middle;\n",
       "    }\n",
       "\n",
       "    .dataframe tbody tr th {\n",
       "        vertical-align: top;\n",
       "    }\n",
       "\n",
       "    .dataframe thead th {\n",
       "        text-align: right;\n",
       "    }\n",
       "</style>\n",
       "<table border=\"1\" class=\"dataframe\">\n",
       "  <thead>\n",
       "    <tr style=\"text-align: right;\">\n",
       "      <th></th>\n",
       "      <th>0</th>\n",
       "      <th>1</th>\n",
       "      <th>2</th>\n",
       "      <th>3</th>\n",
       "    </tr>\n",
       "  </thead>\n",
       "  <tbody>\n",
       "    <tr>\n",
       "      <th>0</th>\n",
       "      <td>1.000</td>\n",
       "      <td>-0.038</td>\n",
       "      <td>-0.088</td>\n",
       "      <td>-0.996</td>\n",
       "    </tr>\n",
       "    <tr>\n",
       "      <th>1</th>\n",
       "      <td>-0.038</td>\n",
       "      <td>1.000</td>\n",
       "      <td>-0.992</td>\n",
       "      <td>0.125</td>\n",
       "    </tr>\n",
       "    <tr>\n",
       "      <th>2</th>\n",
       "      <td>-0.088</td>\n",
       "      <td>-0.992</td>\n",
       "      <td>1.000</td>\n",
       "      <td>-0.000</td>\n",
       "    </tr>\n",
       "    <tr>\n",
       "      <th>3</th>\n",
       "      <td>-0.996</td>\n",
       "      <td>0.125</td>\n",
       "      <td>-0.000</td>\n",
       "      <td>1.000</td>\n",
       "    </tr>\n",
       "  </tbody>\n",
       "</table>\n",
       "</div>"
      ],
      "text/plain": [
       "       0      1      2      3\n",
       "0  1.000 -0.038 -0.088 -0.996\n",
       "1 -0.038  1.000 -0.992  0.125\n",
       "2 -0.088 -0.992  1.000 -0.000\n",
       "3 -0.996  0.125 -0.000  1.000"
      ]
     },
     "execution_count": 438,
     "metadata": {},
     "output_type": "execute_result"
    }
   ],
   "source": [
    "pd.options.display.float_format = '{:.3f}'.format\n",
    "\n",
    "\n",
    "theta1 = np.random.uniform(0, np.pi)\n",
    "theta2 = np.random.uniform(0, np.pi)\n",
    "mixing_matrix = np.array([\n",
    "    [np.cos(theta1), np.sin(theta1)],\n",
    "    [np.cos(theta2), np.sin(theta2)]\n",
    "])\n",
    "\n",
    "normal_matrix = np.vstack((np.random.normal(loc=0, scale=1, size=50), np.random.normal(loc=0, scale=1, size=50), np.random.normal(loc=0, scale=1, size=50)))\n",
    "normal_matrix = np.vstack((np.random.normal(loc=0, scale=1, size=50), np.random.normal(loc=0, scale=1, size=50)))\n",
    "mixing_matrix = np.random.uniform(0.5, 1, (len(normal_matrix), len(normal_matrix)))  # Random weights\n",
    "mixed_normal = mixing_matrix @ normal_matrix  # Linear combination\n",
    "results = gaussian_seperator(mixed_normal)\n",
    "pd.DataFrame(np.corrcoef(normal_matrix, results))"
   ]
  },
  {
   "cell_type": "code",
   "execution_count": 403,
   "id": "afbd6140-b360-44ef-88ec-c64b4d3aa943",
   "metadata": {},
   "outputs": [
    {
     "data": {
      "text/plain": [
       "array([[0.4, 0.4, 0.4],\n",
       "       [0.4, 0.4, 0.4],\n",
       "       [0.4, 0.4, 0.4],\n",
       "       [0.4, 0.4, 0.4]])"
      ]
     },
     "execution_count": 403,
     "metadata": {},
     "output_type": "execute_result"
    }
   ],
   "source": [
    "np.array(thetas)[:, :]"
   ]
  },
  {
   "cell_type": "code",
   "execution_count": 288,
   "id": "9e686af6-d68c-4873-9447-abdb4dbd61ad",
   "metadata": {},
   "outputs": [],
   "source": [
    "def gaussian_seperator(matrix):\n",
    "    \"\"\"\n",
    "    Given a 2 x N matrix, find a rotation matrix that minimizes the\n",
    "    correlation (i.e. makes the two rows as orthogonal as possible).\n",
    "    \n",
    "    Returns the optimal 2x2 rotation matrix and the optimal rotation angle.\n",
    "    \"\"\"\n",
    "    midpoint = get_midpoint(matrix)\n",
    "    # Search for a rotation angle in a window around the midpoint.\n",
    "    # (Here we use midpoint ± pi/4 as an example search interval.)\n",
    "    search_lower = midpoint - np.pi/4\n",
    "    search_upper = midpoint + np.pi/4\n",
    "\n",
    "    res = opt.minimize_scalar(lambda theta: intersection_objective(theta, matrix),\n",
    "                              bounds=(search_lower, search_upper),\n",
    "                              method='bounded')\n",
    "    optimal_theta = res.x\n",
    "    U_opt = rotation_matrix(optimal_theta)\n",
    "    return U_opt, optimal_theta"
   ]
  },
  {
   "cell_type": "code",
   "execution_count": null,
   "id": "c555ee13-0354-454d-bf6b-3db64477c132",
   "metadata": {},
   "outputs": [],
   "source": [
    "matrix_4x10 = \n",
    "print(\"Random 4x10 matrix:\")\n",
    "print(matrix_4x10)\n",
    "\n",
    "# Generate a random 3x4 matrix (3 rows, 4 columns)\n",
    "matrix_3x4 = np.random.randn(3, 4)"
   ]
  },
  {
   "cell_type": "code",
   "execution_count": 13,
   "id": "df16d041-8b23-4cd9-abb4-649ff20b990c",
   "metadata": {},
   "outputs": [
    {
     "data": {
      "text/plain": [
       "<function __main__.unit_matrix(matrix, thetas)>"
      ]
     },
     "execution_count": 13,
     "metadata": {},
     "output_type": "execute_result"
    }
   ],
   "source": []
  },
  {
   "cell_type": "code",
   "execution_count": null,
   "id": "848b43af-79e2-430a-aadb-62af6e7ac6e2",
   "metadata": {},
   "outputs": [],
   "source": []
  }
 ],
 "metadata": {
  "kernelspec": {
   "display_name": "Python [conda env:base] *",
   "language": "python",
   "name": "conda-base-py"
  },
  "language_info": {
   "codemirror_mode": {
    "name": "ipython",
    "version": 3
   },
   "file_extension": ".py",
   "mimetype": "text/x-python",
   "name": "python",
   "nbconvert_exporter": "python",
   "pygments_lexer": "ipython3",
   "version": "3.12.7"
  }
 },
 "nbformat": 4,
 "nbformat_minor": 5
}
